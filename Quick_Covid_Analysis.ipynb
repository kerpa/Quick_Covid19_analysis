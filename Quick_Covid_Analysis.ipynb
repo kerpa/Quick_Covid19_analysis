{
  "nbformat": 4,
  "nbformat_minor": 0,
  "metadata": {
    "colab": {
      "name": "Quick_Covid_Analysis.ipynb",
      "provenance": []
    },
    "kernelspec": {
      "name": "python3",
      "display_name": "Python 3"
    },
    "language_info": {
      "name": "python"
    }
  },
  "cells": [
    {
      "cell_type": "code",
      "metadata": {
        "colab": {
          "base_uri": "https://localhost:8080/"
        },
        "id": "ioHyF-bHaNHl",
        "outputId": "e612072e-12c6-4aef-f8a4-9711111d5eed"
      },
      "source": [
        "#Import of the main libraries for DataViz\n",
        "import pandas as pd\n",
        "import matplotlib.pyplot as plt\n",
        "%matplotlib inline\n",
        "import seaborn as sns\n",
        "from scipy import stats as stats\n",
        "print(\"Setup Complete\")"
      ],
      "execution_count": 1,
      "outputs": [
        {
          "output_type": "stream",
          "text": [
            "Setup Complete\n"
          ],
          "name": "stdout"
        }
      ]
    },
    {
      "cell_type": "markdown",
      "metadata": {
        "id": "AC7YLdAcvsXx"
      },
      "source": [
        "\n",
        "\n",
        "---\n",
        "\n"
      ]
    },
    {
      "cell_type": "markdown",
      "metadata": {
        "id": "MFKCrV44oMvo"
      },
      "source": [
        "# **Quick Analysis for Covid Evolution in France**\n",
        "\n",
        "\n",
        "### Goal\n",
        "The main goal is to visualize the covid 19 pandemic in france using jupyter Notebook.\n"
      ]
    },
    {
      "cell_type": "markdown",
      "metadata": {
        "id": "Bj7fqBRWvlIA"
      },
      "source": [
        "\n",
        "\n",
        "---\n",
        "\n"
      ]
    },
    {
      "cell_type": "markdown",
      "metadata": {
        "id": "bFvGPIZdpGl-"
      },
      "source": [
        "### Sources\n",
        "I used french gouverment open data website [here](https://www.data.gouv.fr/fr/datasets/indicateurs-de-suivi-de-lepidemie-de-covid-19/).\n",
        "The data is for the whole France.\n",
        "\n"
      ]
    },
    {
      "cell_type": "code",
      "metadata": {
        "colab": {
          "base_uri": "https://localhost:8080/",
          "height": 238
        },
        "id": "WmT69n5bbDay",
        "outputId": "29ee77e5-cee1-4c32-d8ed-e5d80a15494a"
      },
      "source": [
        "# definition of the file path\n",
        "file_path_indicateurs = '/table-indicateurs-open-data-france.csv'\n",
        "\n",
        "#I put the data into a pandas dataframe\n",
        "data_indicateurs = pd.read_csv(file_path_indicateurs)\n",
        "data_indicateurs['extract_date'] = pd.to_datetime(data_indicateurs['extract_date'])\n",
        "data_indicateurs.set_index('extract_date',inplace=True)\n",
        "#I read the head of the dataframe to have an understanding of data structure\n",
        "data_indicateurs.head()"
      ],
      "execution_count": 2,
      "outputs": [
        {
          "output_type": "execute_result",
          "data": {
            "text/html": [
              "<div>\n",
              "<style scoped>\n",
              "    .dataframe tbody tr th:only-of-type {\n",
              "        vertical-align: middle;\n",
              "    }\n",
              "\n",
              "    .dataframe tbody tr th {\n",
              "        vertical-align: top;\n",
              "    }\n",
              "\n",
              "    .dataframe thead th {\n",
              "        text-align: right;\n",
              "    }\n",
              "</style>\n",
              "<table border=\"1\" class=\"dataframe\">\n",
              "  <thead>\n",
              "    <tr style=\"text-align: right;\">\n",
              "      <th></th>\n",
              "      <th>tx_incid</th>\n",
              "      <th>R</th>\n",
              "      <th>taux_occupation_sae</th>\n",
              "      <th>tx_pos</th>\n",
              "    </tr>\n",
              "    <tr>\n",
              "      <th>extract_date</th>\n",
              "      <th></th>\n",
              "      <th></th>\n",
              "      <th></th>\n",
              "      <th></th>\n",
              "    </tr>\n",
              "  </thead>\n",
              "  <tbody>\n",
              "    <tr>\n",
              "      <th>2020-03-18</th>\n",
              "      <td>NaN</td>\n",
              "      <td>NaN</td>\n",
              "      <td>15.2</td>\n",
              "      <td>NaN</td>\n",
              "    </tr>\n",
              "    <tr>\n",
              "      <th>2020-03-19</th>\n",
              "      <td>5.570823</td>\n",
              "      <td>NaN</td>\n",
              "      <td>19.8</td>\n",
              "      <td>NaN</td>\n",
              "    </tr>\n",
              "    <tr>\n",
              "      <th>2020-03-20</th>\n",
              "      <td>8.403950</td>\n",
              "      <td>NaN</td>\n",
              "      <td>25.6</td>\n",
              "      <td>NaN</td>\n",
              "    </tr>\n",
              "    <tr>\n",
              "      <th>2020-03-21</th>\n",
              "      <td>11.013409</td>\n",
              "      <td>NaN</td>\n",
              "      <td>28.7</td>\n",
              "      <td>NaN</td>\n",
              "    </tr>\n",
              "    <tr>\n",
              "      <th>2020-03-22</th>\n",
              "      <td>13.600502</td>\n",
              "      <td>NaN</td>\n",
              "      <td>33.1</td>\n",
              "      <td>NaN</td>\n",
              "    </tr>\n",
              "  </tbody>\n",
              "</table>\n",
              "</div>"
            ],
            "text/plain": [
              "               tx_incid   R  taux_occupation_sae  tx_pos\n",
              "extract_date                                            \n",
              "2020-03-18          NaN NaN                 15.2     NaN\n",
              "2020-03-19     5.570823 NaN                 19.8     NaN\n",
              "2020-03-20     8.403950 NaN                 25.6     NaN\n",
              "2020-03-21    11.013409 NaN                 28.7     NaN\n",
              "2020-03-22    13.600502 NaN                 33.1     NaN"
            ]
          },
          "metadata": {
            "tags": []
          },
          "execution_count": 2
        }
      ]
    },
    {
      "cell_type": "markdown",
      "metadata": {
        "id": "PCekNLLrvuxi"
      },
      "source": [
        "\n",
        "\n",
        "---\n",
        "\n"
      ]
    },
    {
      "cell_type": "markdown",
      "metadata": {
        "id": "SB9gyjQZtwad"
      },
      "source": [
        "## Quick graph of the data in function of time\n"
      ]
    },
    {
      "cell_type": "code",
      "metadata": {
        "colab": {
          "base_uri": "https://localhost:8080/",
          "height": 389
        },
        "id": "jG-br62ObzOr",
        "outputId": "f5041922-7ccd-4f6f-8690-8e1b774185c5"
      },
      "source": [
        "#Plotting data in function of time\n",
        "ax1 = plt.figure(figsize=(12,6))\n",
        "ax1 = sns.lineplot(data=data_indicateurs)"
      ],
      "execution_count": 3,
      "outputs": [
        {
          "output_type": "display_data",
          "data": {
            "image/png": "[encoded data removed]",
            "text/plain": [
              "<Figure size 864x432 with 1 Axes>"
            ]
          },
          "metadata": {
            "tags": [],
            "needs_background": "light"
          }
        }
      ]
    },
    {
      "cell_type": "markdown",
      "metadata": {
        "id": "GhO1JIhQ0fWc"
      },
      "source": [
        "Clearly the main phases of the epidemic can be seen with the incidence rate evolution trough time."
      ]
    },
    {
      "cell_type": "markdown",
      "metadata": {
        "id": "2Mho6OsTvxjx"
      },
      "source": [
        "\n",
        "\n",
        "---\n",
        "\n"
      ]
    },
    {
      "cell_type": "markdown",
      "metadata": {
        "id": "6EJvMxwNucDN"
      },
      "source": [
        "## Looking for relation between variables\n",
        "we delete missing values to make better correlatins between variables.\n",
        "Then we can ask ourselves what are the relation among outputs."
      ]
    },
    {
      "cell_type": "code",
      "metadata": {
        "colab": {
          "base_uri": "https://localhost:8080/",
          "height": 206
        },
        "id": "DDj0xbclcU-1",
        "outputId": "740a8a36-b59b-4136-e282-55868b9f5fea"
      },
      "source": [
        "#Deleting missing values\n",
        "data_indicateurs2 = data_indicateurs.dropna()\n",
        "data_indicateurs2.reset_index(inplace=True)\n",
        "data_indicateurs2.head()"
      ],
      "execution_count": 4,
      "outputs": [
        {
          "output_type": "execute_result",
          "data": {
            "text/html": [
              "<div>\n",
              "<style scoped>\n",
              "    .dataframe tbody tr th:only-of-type {\n",
              "        vertical-align: middle;\n",
              "    }\n",
              "\n",
              "    .dataframe tbody tr th {\n",
              "        vertical-align: top;\n",
              "    }\n",
              "\n",
              "    .dataframe thead th {\n",
              "        text-align: right;\n",
              "    }\n",
              "</style>\n",
              "<table border=\"1\" class=\"dataframe\">\n",
              "  <thead>\n",
              "    <tr style=\"text-align: right;\">\n",
              "      <th></th>\n",
              "      <th>extract_date</th>\n",
              "      <th>tx_incid</th>\n",
              "      <th>R</th>\n",
              "      <th>taux_occupation_sae</th>\n",
              "      <th>tx_pos</th>\n",
              "    </tr>\n",
              "  </thead>\n",
              "  <tbody>\n",
              "    <tr>\n",
              "      <th>0</th>\n",
              "      <td>2020-06-01</td>\n",
              "      <td>5.197050</td>\n",
              "      <td>0.84</td>\n",
              "      <td>25.1</td>\n",
              "      <td>1.501300</td>\n",
              "    </tr>\n",
              "    <tr>\n",
              "      <th>1</th>\n",
              "      <td>2020-06-02</td>\n",
              "      <td>5.147881</td>\n",
              "      <td>0.84</td>\n",
              "      <td>24.1</td>\n",
              "      <td>1.520426</td>\n",
              "    </tr>\n",
              "    <tr>\n",
              "      <th>2</th>\n",
              "      <td>2020-06-03</td>\n",
              "      <td>5.067422</td>\n",
              "      <td>0.83</td>\n",
              "      <td>23.3</td>\n",
              "      <td>1.507729</td>\n",
              "    </tr>\n",
              "    <tr>\n",
              "      <th>3</th>\n",
              "      <td>2020-06-04</td>\n",
              "      <td>5.048052</td>\n",
              "      <td>0.84</td>\n",
              "      <td>22.4</td>\n",
              "      <td>1.522279</td>\n",
              "    </tr>\n",
              "    <tr>\n",
              "      <th>4</th>\n",
              "      <td>2020-06-05</td>\n",
              "      <td>5.000373</td>\n",
              "      <td>0.85</td>\n",
              "      <td>21.1</td>\n",
              "      <td>1.526863</td>\n",
              "    </tr>\n",
              "  </tbody>\n",
              "</table>\n",
              "</div>"
            ],
            "text/plain": [
              "  extract_date  tx_incid     R  taux_occupation_sae    tx_pos\n",
              "0   2020-06-01  5.197050  0.84                 25.1  1.501300\n",
              "1   2020-06-02  5.147881  0.84                 24.1  1.520426\n",
              "2   2020-06-03  5.067422  0.83                 23.3  1.507729\n",
              "3   2020-06-04  5.048052  0.84                 22.4  1.522279\n",
              "4   2020-06-05  5.000373  0.85                 21.1  1.526863"
            ]
          },
          "metadata": {
            "tags": []
          },
          "execution_count": 4
        }
      ]
    },
    {
      "cell_type": "markdown",
      "metadata": {
        "id": "w8Evi6YgtmrK"
      },
      "source": [
        "### Use of Linear Regression\n",
        "I use linear regression to any sort of correlation between the variables.\n"
      ]
    },
    {
      "cell_type": "code",
      "metadata": {
        "colab": {
          "base_uri": "https://localhost:8080/",
          "height": 298
        },
        "id": "vCRNmo_bgvY7",
        "outputId": "6d888970-05af-43c9-fa8c-127e8aabd5de"
      },
      "source": [
        "#Linear regression between tx_pos and tx_incid with equation of the regression\n",
        "slope, intercept, r_value, p_value, std_err = stats.linregress(data_indicateurs2['tx_pos'],data_indicateurs2['tx_incid'])\n",
        "\n",
        "ax2 = sns.regplot(x=\"tx_pos\", y=\"tx_incid\", data=data_indicateurs2, \n",
        " line_kws={'label':\"y={0:.1f}x+{1:.1f}\".format(slope,intercept)})\n",
        "ax2.legend()"
      ],
      "execution_count": 5,
      "outputs": [
        {
          "output_type": "execute_result",
          "data": {
            "text/plain": [
              "<matplotlib.legend.Legend at 0x7ffa11586ad0>"
            ]
          },
          "metadata": {
            "tags": []
          },
          "execution_count": 5
        },
        {
          "output_type": "display_data",
          "data": {
            "image/png": "[encoded data removed]",
            "text/plain": [
              "<Figure size 432x288 with 1 Axes>"
            ]
          },
          "metadata": {
            "tags": [],
            "needs_background": "light"
          }
        }
      ]
    },
    {
      "cell_type": "markdown",
      "metadata": {
        "id": "qAF-RcnK0uHT"
      },
      "source": [
        "Here we can see a strong relation between the incidence rate and the positivity rate."
      ]
    },
    {
      "cell_type": "markdown",
      "metadata": {
        "id": "RqB1xGsH0Btb"
      },
      "source": [
        "\n",
        "\n",
        "---\n",
        "\n"
      ]
    },
    {
      "cell_type": "markdown",
      "metadata": {
        "id": "uzbLj5z10C7q"
      },
      "source": [
        "## Correlation between variables"
      ]
    },
    {
      "cell_type": "code",
      "metadata": {
        "colab": {
          "base_uri": "https://localhost:8080/",
          "height": 206
        },
        "id": "MdJ2gn20sVWO",
        "outputId": "a7f401bf-ad3d-49a2-8ba3-bfd1b43d5306"
      },
      "source": [
        "#Creating a dataframe with only the numerics values\n",
        "dataframe = pd.DataFrame(data_indicateurs2, columns=['tx_incid', 'taux_occupation_sae', 'tx_pos'])\n",
        "dataframe.head()"
      ],
      "execution_count": 6,
      "outputs": [
        {
          "output_type": "execute_result",
          "data": {
            "text/html": [
              "<div>\n",
              "<style scoped>\n",
              "    .dataframe tbody tr th:only-of-type {\n",
              "        vertical-align: middle;\n",
              "    }\n",
              "\n",
              "    .dataframe tbody tr th {\n",
              "        vertical-align: top;\n",
              "    }\n",
              "\n",
              "    .dataframe thead th {\n",
              "        text-align: right;\n",
              "    }\n",
              "</style>\n",
              "<table border=\"1\" class=\"dataframe\">\n",
              "  <thead>\n",
              "    <tr style=\"text-align: right;\">\n",
              "      <th></th>\n",
              "      <th>tx_incid</th>\n",
              "      <th>taux_occupation_sae</th>\n",
              "      <th>tx_pos</th>\n",
              "    </tr>\n",
              "  </thead>\n",
              "  <tbody>\n",
              "    <tr>\n",
              "      <th>0</th>\n",
              "      <td>5.197050</td>\n",
              "      <td>25.1</td>\n",
              "      <td>1.501300</td>\n",
              "    </tr>\n",
              "    <tr>\n",
              "      <th>1</th>\n",
              "      <td>5.147881</td>\n",
              "      <td>24.1</td>\n",
              "      <td>1.520426</td>\n",
              "    </tr>\n",
              "    <tr>\n",
              "      <th>2</th>\n",
              "      <td>5.067422</td>\n",
              "      <td>23.3</td>\n",
              "      <td>1.507729</td>\n",
              "    </tr>\n",
              "    <tr>\n",
              "      <th>3</th>\n",
              "      <td>5.048052</td>\n",
              "      <td>22.4</td>\n",
              "      <td>1.522279</td>\n",
              "    </tr>\n",
              "    <tr>\n",
              "      <th>4</th>\n",
              "      <td>5.000373</td>\n",
              "      <td>21.1</td>\n",
              "      <td>1.526863</td>\n",
              "    </tr>\n",
              "  </tbody>\n",
              "</table>\n",
              "</div>"
            ],
            "text/plain": [
              "   tx_incid  taux_occupation_sae    tx_pos\n",
              "0  5.197050                 25.1  1.501300\n",
              "1  5.147881                 24.1  1.520426\n",
              "2  5.067422                 23.3  1.507729\n",
              "3  5.048052                 22.4  1.522279\n",
              "4  5.000373                 21.1  1.526863"
            ]
          },
          "metadata": {
            "tags": []
          },
          "execution_count": 6
        }
      ]
    },
    {
      "cell_type": "code",
      "metadata": {
        "colab": {
          "base_uri": "https://localhost:8080/"
        },
        "id": "f3FtH8F7zdjL",
        "outputId": "79246149-93da-4459-e9f0-bd88a90d907e"
      },
      "source": [
        "#creating the correlation matrix\n",
        "matrix = dataframe.corr()\n",
        "print(matrix)"
      ],
      "execution_count": 7,
      "outputs": [
        {
          "output_type": "stream",
          "text": [
            "                     tx_incid  taux_occupation_sae    tx_pos\n",
            "tx_incid             1.000000             0.794302  0.908775\n",
            "taux_occupation_sae  0.794302             1.000000  0.662972\n",
            "tx_pos               0.908775             0.662972  1.000000\n"
          ],
          "name": "stdout"
        }
      ]
    },
    {
      "cell_type": "code",
      "metadata": {
        "colab": {
          "base_uri": "https://localhost:8080/",
          "height": 288
        },
        "id": "JNWuZVRUzqp_",
        "outputId": "f50cfbd8-3b78-458b-a5e3-93520b69d442"
      },
      "source": [
        "sns.heatmap(data=matrix, annot=True)"
      ],
      "execution_count": 8,
      "outputs": [
        {
          "output_type": "execute_result",
          "data": {
            "text/plain": [
              "<matplotlib.axes._subplots.AxesSubplot at 0x7ffa1158b950>"
            ]
          },
          "metadata": {
            "tags": []
          },
          "execution_count": 8
        },
        {
          "output_type": "display_data",
          "data": {
            "image/png": "[encoded data removed]",
            "text/plain": [
              "<Figure size 432x288 with 2 Axes>"
            ]
          },
          "metadata": {
            "tags": [],
            "needs_background": "light"
          }
        }
      ]
    },
    {
      "cell_type": "markdown",
      "metadata": {
        "id": "rPwD7GEb0aKS"
      },
      "source": [
        "With this correlation matrix we can see that all variables are correlated. This is normal, because they all monitor the pandemic.\n",
        "\n",
        "They also show that we don't need all of this to monitor the epidemic, but only the ones the less correlated; like : incidence rate and occupation rate.\n",
        "\n",
        "Indeed if we take the positivity rate we can make good approximations based on the incidence rate. The incidence rate being more contrasted across time it will show more phases or informations than a flat line; Even if the incidence rate is a rate."
      ]
    },
    {
      "cell_type": "markdown",
      "metadata": {
        "id": "nYq7jne611fl"
      },
      "source": [
        "\n",
        "\n",
        "---\n",
        "\n"
      ]
    },
    {
      "cell_type": "markdown",
      "metadata": {
        "id": "BENApaRk11Gh"
      },
      "source": [
        "## Conclusion\n",
        "\n",
        "Better Analysis we'll take broader data and make more precise analysis. As a quick analysis it as shows that we can make some statement in a few times based on data freely at disposal.\n",
        "\n",
        "On the other hand we can also critic the sources that are already formated. That was the job of this quick examination."
      ]
    }
  ]
}